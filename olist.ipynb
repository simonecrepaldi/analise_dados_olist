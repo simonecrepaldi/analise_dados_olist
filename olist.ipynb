{
  "nbformat": 4,
  "nbformat_minor": 0,
  "metadata": {
    "colab": {
      "provenance": [],
      "authorship_tag": "ABX9TyN3iBjinRyzvlPB2DHggZsb",
      "include_colab_link": true
    },
    "kernelspec": {
      "name": "python3",
      "display_name": "Python 3"
    },
    "language_info": {
      "name": "python"
    }
  },
  "cells": [
    {
      "cell_type": "markdown",
      "metadata": {
        "id": "view-in-github",
        "colab_type": "text"
      },
      "source": [
        "<a href=\"https://colab.research.google.com/github/simonecrepaldi/analise_dados_olist/blob/main/olist.ipynb\" target=\"_parent\"><img src=\"https://colab.research.google.com/assets/colab-badge.svg\" alt=\"Open In Colab\"/></a>"
      ]
    },
    {
      "cell_type": "markdown",
      "source": [
        "# Importando as bibliotecas\n"
      ],
      "metadata": {
        "id": "GPrQ2R8pyPYt"
      }
    },
    {
      "cell_type": "code",
      "source": [
        "import numpy as np\n",
        "import pandas as pd\n",
        "import matplotlib.pyplot as plt\n",
        "import seaborn as sns"
      ],
      "metadata": {
        "id": "7QjcAjbxyjNI"
      },
      "execution_count": 3,
      "outputs": []
    },
    {
      "cell_type": "markdown",
      "source": [
        "# Importando os dados"
      ],
      "metadata": {
        "id": "Rmd4Ua-nyUns"
      }
    },
    {
      "cell_type": "code",
      "source": [
        "from google.colab import drive\n",
        "drive.mount('/content/drive')"
      ],
      "metadata": {
        "colab": {
          "base_uri": "https://localhost:8080/"
        },
        "id": "cOvAkp1JyYKS",
        "outputId": "8b956695-c86c-4870-c6d9-80ed58c359f7"
      },
      "execution_count": 4,
      "outputs": [
        {
          "output_type": "stream",
          "name": "stdout",
          "text": [
            "Drive already mounted at /content/drive; to attempt to forcibly remount, call drive.mount(\"/content/drive\", force_remount=True).\n"
          ]
        }
      ]
    },
    {
      "cell_type": "code",
      "source": [
        "customers = pd.read_csv('/content/drive/MyDrive/olist/olist_customers_dataset.csv', sep=\",\", encoding='utf8')\n",
        "order_items = pd.read_csv('/content/drive/MyDrive/olist/olist_order_items_dataset.csv',sep=\",\", encoding='utf8')\n",
        "payments = pd.read_csv('/content/drive/MyDrive/olist/olist_order_payments_dataset.csv',sep=\",\", encoding='utf8')\n",
        "orders = pd.read_csv('/content/drive/MyDrive/olist/olist_orders_dataset.csv', sep=\",\", encoding='utf8')\n",
        "products = pd.read_csv('/content/drive/MyDrive/olist/olist_products_dataset.csv',sep=\",\", encoding='utf8')\n",
        "sellers = pd.read_csv('/content/drive/MyDrive/olist/olist_sellers_dataset.csv', sep=\",\", encoding='utf8')\n",
        "geolocation = pd.read_csv('/content/drive/MyDrive/olist/olist_geolocation_dataset.csv', sep=\",\", encoding='utf8')\n",
        "reviews = pd.read_csv('/content/drive/MyDrive/olist/olist_order_reviews_dataset.csv', sep=\",\", encoding='utf8')"
      ],
      "metadata": {
        "id": "tMHVYE1xyizT"
      },
      "execution_count": 23,
      "outputs": []
    },
    {
      "cell_type": "code",
      "source": [
        "orders.isnull().sum()"
      ],
      "metadata": {
        "colab": {
          "base_uri": "https://localhost:8080/"
        },
        "id": "iIJqDsyFZ01T",
        "outputId": "d509c611-f426-49fd-c108-b892bac650c3"
      },
      "execution_count": 22,
      "outputs": [
        {
          "output_type": "execute_result",
          "data": {
            "text/plain": [
              "order_id                            0\n",
              "customer_id                         0\n",
              "order_status                        0\n",
              "order_purchase_timestamp            0\n",
              "order_approved_at                 160\n",
              "order_delivered_carrier_date     1783\n",
              "order_delivered_customer_date    2965\n",
              "order_estimated_delivery_date       0\n",
              "dtype: int64"
            ]
          },
          "metadata": {},
          "execution_count": 22
        }
      ]
    }
  ]
}